{
  "nbformat": 4,
  "nbformat_minor": 0,
  "metadata": {
    "colab": {
      "provenance": [],
      "authorship_tag": "ABX9TyNLSucUomDlu2Sj0yQ1CFP6",
      "include_colab_link": true
    },
    "kernelspec": {
      "name": "python3",
      "display_name": "Python 3"
    },
    "language_info": {
      "name": "python"
    }
  },
  "cells": [
    {
      "cell_type": "markdown",
      "metadata": {
        "id": "view-in-github",
        "colab_type": "text"
      },
      "source": [
        "<a href=\"https://colab.research.google.com/github/GSouzzaDev/Python-Para-Analise-de-Dados/blob/main/Estrutura%20de%20Dados.ipynb\" target=\"_parent\"><img src=\"https://colab.research.google.com/assets/colab-badge.svg\" alt=\"Open In Colab\"/></a>"
      ]
    },
    {
      "cell_type": "markdown",
      "source": [
        "# **Estrutura de Dados**"
      ],
      "metadata": {
        "id": "4tfjEQw5xD-y"
      }
    },
    {
      "cell_type": "markdown",
      "source": [
        "# Criando uma lista"
      ],
      "metadata": {
        "id": "kS6NeNq0xvyl"
      }
    },
    {
      "cell_type": "markdown",
      "source": [
        "Criando uma lista chamada  filmes com o nome dos 10 primeiros filmes mais bem avaliados no site no IMDB utilizando a seguinte estrutura: filmes = [...]"
      ],
      "metadata": {
        "id": "GC1GVffQxUqZ"
      }
    },
    {
      "cell_type": "code",
      "execution_count": 5,
      "metadata": {
        "id": "iHeQahpBxDFe"
      },
      "outputs": [],
      "source": [
        "filmes = [\n",
        "    'The Shawshank Redemption',\n",
        "    'The Godfather',\n",
        "    'The Dark Knight',\n",
        "    'The Godfather Part II',\n",
        "    'The Godfather',\n",
        "    '12 Angry Men',\n",
        "    'Schindler\\'s List',\n",
        "    'The Lord of the Rings: The Return of the King',\n",
        "    'Pulp Fiction',\n",
        "    'The Shawshank Redemption',\n",
        "    'The Lord of the Rings: The Fellowship of the Ring',\n",
        "    'The Good, the Bad and the Ugly',\n",
        "    'Pulp Fiction'\n",
        "]"
      ]
    },
    {
      "cell_type": "markdown",
      "source": [
        "# Simulando a transferência do ranking"
      ],
      "metadata": {
        "id": "YSRmw2egxzoH"
      }
    },
    {
      "cell_type": "markdown",
      "source": [
        "Utilizando os métodos  insert  e  pop  para trocar a posição do primeiro e do segundo filme da lista."
      ],
      "metadata": {
        "id": "StdZyvidyCcY"
      }
    },
    {
      "cell_type": "code",
      "source": [
        "filmes.pop(0)\n",
        "filmes.insert(1, 'The Shawshank Redemption')"
      ],
      "metadata": {
        "id": "X_wiwDsBx702"
      },
      "execution_count": 6,
      "outputs": []
    },
    {
      "cell_type": "markdown",
      "source": [
        "Resultado:"
      ],
      "metadata": {
        "id": "WuJjNYLbyOEh"
      }
    },
    {
      "cell_type": "code",
      "source": [
        "print(filmes)"
      ],
      "metadata": {
        "colab": {
          "base_uri": "https://localhost:8080/"
        },
        "id": "KdjgOyjOyQBT",
        "outputId": "f1d999d8-23ba-45fd-9ceb-e6918658ee7d"
      },
      "execution_count": 7,
      "outputs": [
        {
          "output_type": "stream",
          "name": "stdout",
          "text": [
            "['The Godfather', 'The Shawshank Redemption', 'The Dark Knight', 'The Godfather Part II', 'The Godfather', '12 Angry Men', \"Schindler's List\", 'The Lord of the Rings: The Return of the King', 'Pulp Fiction', 'The Shawshank Redemption', 'The Lord of the Rings: The Fellowship of the Ring', 'The Good, the Bad and the Ugly', 'Pulp Fiction']\n"
          ]
        }
      ]
    },
    {
      "cell_type": "markdown",
      "source": [
        "# Lista de filmes com valores duplicados"
      ],
      "metadata": {
        "id": "lRGIOFfPy2R7"
      }
    },
    {
      "cell_type": "markdown",
      "source": [
        "Utilizando a conversão para conjunto e, em seguida, novamente para lista para remover os duplicados."
      ],
      "metadata": {
        "id": "FOyRpZAhy7xs"
      }
    },
    {
      "cell_type": "code",
      "source": [
        "filmes = list(set(filmes))\n",
        "\n",
        "print(filmes)"
      ],
      "metadata": {
        "colab": {
          "base_uri": "https://localhost:8080/"
        },
        "id": "_s_gl7gZzAZe",
        "outputId": "4ac4afa8-ba02-4d35-aad9-27fd2eb56623"
      },
      "execution_count": 8,
      "outputs": [
        {
          "output_type": "stream",
          "name": "stdout",
          "text": [
            "['The Godfather', 'The Dark Knight', 'Pulp Fiction', 'The Lord of the Rings: The Fellowship of the Ring', 'The Shawshank Redemption', 'The Godfather Part II', 'The Good, the Bad and the Ugly', \"Schindler's List\", '12 Angry Men', 'The Lord of the Rings: The Return of the King']\n"
          ]
        }
      ]
    },
    {
      "cell_type": "markdown",
      "source": [
        "# Criando dicionários, para mais detalhes"
      ],
      "metadata": {
        "id": "2VY5uBUXzV72"
      }
    },
    {
      "cell_type": "markdown",
      "source": [
        "Adicionando mais informações a essa estrutura de dados com o ano e a sinopse de cada filme."
      ],
      "metadata": {
        "id": "BMHG51QnzmS6"
      }
    },
    {
      "cell_type": "code",
      "source": [
        "filme1={'nome': '1. Um Sonho de Liberdade', 'ano': 1994, 'sinopse': 'Dois homens presos se reúnem ao longo de vários anos, encontrando consolo e eventual redenção através de atos de decência comum'}\n",
        "\n",
        "filme2={'nome': '2. O Poderoso Chefão', 'ano': 1972, 'sinopse': 'O patriarca idoso de uma dinastia do crime organizado transfere o controle de seu império clandestino para seu filho relutante'}\n",
        "\n",
        "filme3={'nome': '3. Batman: O Cavaleiro das Trevas', 'ano': 2008, 'sinopse': 'Agora com a ajuda do tenente Jim Gordon e do promotor público Harvey Dent, Batman tem tudo para banir o crime de Gotham City de uma vez por todas. Mas em breve, os três serão vítimas do Coringa, que pretende lançar Gotham em uma anarquia'}\n",
        "\n",
        "filme4={'nome': '4. O Poderoso Chefão II', 'ano': 1974, 'sinopse': 'Em 1950, Michael Corleone, agora à frente da família, tenta expandir o negócio do crime a Las Vegas, Los Angeles e Cuba. Paralelamente, é revelada a história de Vito Corleone, e de como saiu da Sicília e chegou a Nova Iorque'}\n",
        "\n",
        "filme5={'nome': '5. 12 Homens e uma Sentença', 'ano': 1957, 'sinopse': 'O julgamento de um assassinato em Nova Iorque é frustrado por um único membro, cujo ceticismo força o júri a considerar cuidadosamente as evidências antes de dar o veredito'}\n",
        "\n",
        "filme6={'nome': '6. A Lista de Schindler', 'ano': 1993, 'sinopse': 'Na Polônia ocupada pelos alemães durante a Segunda Guerra Mundial, o industrial Oskar Schindler começa a ser preocupar com seus trabalhadores judeus depois de testemunhar sua perseguição pelos nazistas'}\n",
        "\n",
        "filme7={'nome': '7. O Senhor dos Anéis: O Retorno do Rei', 'ano': 2003, 'sinopse': 'Gandalf e Aragorn lideram o Mundo dos Homens contra o exército de Sauron para desviar o olhar de Frodo e Sam quando eles se aproximam á Montanha da Perdição com o Um Anel'}\n",
        "\n",
        "filme8={'nome': '8. Pulp Fiction: Tempo de Violência', 'ano': 1994, 'sinopse': 'As vidas de dois assassinos da máfia, um boxeador, um gângster e sua esposa, e um par de bandidos se entrelaçam em quatro histórias de violência e redenção'}\n",
        "\n",
        "filme9={'nome': '9. O Senhor dos Anéis: A Sociedade do Anel', 'ano': 2001, 'sinopse': 'Um manso hobbit do Condado e oito companheiros partem em uma jornada para destruir o poderoso Um Anel e salvar a Terra-média das Trevas'}\n",
        "\n",
        "filme10={'nome': '10. Três Homens em Conflito', 'ano': 1966, 'sinopse': 'Um impostor se junta com dois homens para encontrar fortuna num remoto cemitério'}"
      ],
      "metadata": {
        "id": "1flMfwlRzfCe"
      },
      "execution_count": 9,
      "outputs": []
    },
    {
      "cell_type": "markdown",
      "source": [
        "Adicionando todos os dicionários a uma lista de dicionários.\n",
        "\n"
      ],
      "metadata": {
        "id": "dJvWchCKzcyC"
      }
    },
    {
      "cell_type": "code",
      "source": [
        "filmes = [filme1, filme2, filme3, filme4, filme5, filme6, filme7, filme8, filme9, filme10]"
      ],
      "metadata": {
        "id": "bgDtTFz20W_S"
      },
      "execution_count": 10,
      "outputs": []
    },
    {
      "cell_type": "markdown",
      "source": [
        "Resultado:"
      ],
      "metadata": {
        "id": "THYBCoaC0WkR"
      }
    },
    {
      "cell_type": "code",
      "source": [
        "for v,k in enumerate(filmes):\n",
        "    print(f'Filme: {v+1} {k}')"
      ],
      "metadata": {
        "colab": {
          "base_uri": "https://localhost:8080/"
        },
        "id": "X8Saa4lj0dvn",
        "outputId": "401ff296-d275-4ebf-9ebb-297b9d5778d1"
      },
      "execution_count": 11,
      "outputs": [
        {
          "output_type": "stream",
          "name": "stdout",
          "text": [
            "Filme: 1 {'nome': '1. Um Sonho de Liberdade', 'ano': 1994, 'sinopse': 'Dois homens presos se reúnem ao longo de vários anos, encontrando consolo e eventual redenção através de atos de decência comum'}\n",
            "Filme: 2 {'nome': '2. O Poderoso Chefão', 'ano': 1972, 'sinopse': 'O patriarca idoso de uma dinastia do crime organizado transfere o controle de seu império clandestino para seu filho relutante'}\n",
            "Filme: 3 {'nome': '3. Batman: O Cavaleiro das Trevas', 'ano': 2008, 'sinopse': 'Agora com a ajuda do tenente Jim Gordon e do promotor público Harvey Dent, Batman tem tudo para banir o crime de Gotham City de uma vez por todas. Mas em breve, os três serão vítimas do Coringa, que pretende lançar Gotham em uma anarquia'}\n",
            "Filme: 4 {'nome': '4. O Poderoso Chefão II', 'ano': 1974, 'sinopse': 'Em 1950, Michael Corleone, agora à frente da família, tenta expandir o negócio do crime a Las Vegas, Los Angeles e Cuba. Paralelamente, é revelada a história de Vito Corleone, e de como saiu da Sicília e chegou a Nova Iorque'}\n",
            "Filme: 5 {'nome': '5. 12 Homens e uma Sentença', 'ano': 1957, 'sinopse': 'O julgamento de um assassinato em Nova Iorque é frustrado por um único membro, cujo ceticismo força o júri a considerar cuidadosamente as evidências antes de dar o veredito'}\n",
            "Filme: 6 {'nome': '6. A Lista de Schindler', 'ano': 1993, 'sinopse': 'Na Polônia ocupada pelos alemães durante a Segunda Guerra Mundial, o industrial Oskar Schindler começa a ser preocupar com seus trabalhadores judeus depois de testemunhar sua perseguição pelos nazistas'}\n",
            "Filme: 7 {'nome': '7. O Senhor dos Anéis: O Retorno do Rei', 'ano': 2003, 'sinopse': 'Gandalf e Aragorn lideram o Mundo dos Homens contra o exército de Sauron para desviar o olhar de Frodo e Sam quando eles se aproximam á Montanha da Perdição com o Um Anel'}\n",
            "Filme: 8 {'nome': '8. Pulp Fiction: Tempo de Violência', 'ano': 1994, 'sinopse': 'As vidas de dois assassinos da máfia, um boxeador, um gângster e sua esposa, e um par de bandidos se entrelaçam em quatro histórias de violência e redenção'}\n",
            "Filme: 9 {'nome': '9. O Senhor dos Anéis: A Sociedade do Anel', 'ano': 2001, 'sinopse': 'Um manso hobbit do Condado e oito companheiros partem em uma jornada para destruir o poderoso Um Anel e salvar a Terra-média das Trevas'}\n",
            "Filme: 10 {'nome': '10. Três Homens em Conflito', 'ano': 1966, 'sinopse': 'Um impostor se junta com dois homens para encontrar fortuna num remoto cemitério'}\n"
          ]
        }
      ]
    }
  ]
}